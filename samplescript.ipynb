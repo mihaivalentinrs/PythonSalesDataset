{
 "cells": [
  {
   "cell_type": "code",
   "id": "initial_id",
   "metadata": {
    "collapsed": true,
    "ExecuteTime": {
     "end_time": "2025-10-22T11:43:58.601977Z",
     "start_time": "2025-10-22T11:43:58.422623Z"
    }
   },
   "source": [
    "import numpy as np\n",
    "import pandas as pd\n",
    "from pandas.core.interchange.dataframe_protocol import DataFrame\n",
    "\n",
    "dataset = pd.read_csv('raportVanzari.csv', encoding = 'utf-8', encoding_errors = 'ignore')\n",
    "dataset['MODEL'] = dataset['MODEL'].str.replace(' ','', regex = False)\n",
    "dataset['MARCA'] = dataset['MODEL'].str.replace(' ', ' ', regex = False)\n",
    "grupare_marca= {marca:dataset[dataset['MARCA']==marca] for marca in dataset['MARCA'].unique()}\n",
    "grupare_modele = {model:dataset[dataset['MODEL']==model] for model in dataset['MODEL'].unique()}\n",
    "grupare_an_fabricatie = {an_fabricatie: dataset[dataset['AN FABRICATIE']==an_fabricatie] for an_fabricatie in dataset['AN FABRICATIE'].unique()}\n",
    "grupare_versiune = {versiune: dataset[dataset['VERSIUNE'] == versiune] for versiune in dataset['VERSIUNE'].unique()}\n",
    "vector_modele = []\n",
    "vector_marca = []\n",
    "for marca in grupare_marca:\n",
    "    vector_marca.append(marca)\n",
    "print(vector_marca)\n",
    "\n"
   ],
   "outputs": [
    {
     "name": "stdout",
     "output_type": "stream",
     "text": [
      "['DUSTER', 'ARKANA', 'MASTER', 'ZOE', 'DUSTERIII', 'SPRING', 'QASHQAI', 'JOGGER7L', 'KANGOOVAN', 'DUSTERIIF.2', 'AUSTRAL', 'MEGANESEDAN', 'SANDEROIII', 'TALISMAN', 'LOGANIII', 'CAPTUR', 'MEGANEE-TECH', 'X-TRAIL5L', 'NOULCLIO', 'CLIO5', 'TRAFIC', 'X-TRAIL7L', 'MEGANE4', 'EXPRESS', 'KOLEOS', 'RAFALE', 'SYMBIOZ', 'MEGANEESTATE', 'MASTERE-TECH', 'LOGANSLXX', 'ARIYA', 'X-Trail', 'DUSTERPICK-UP', 'JOGGER5L', 'R5', 'JUKE', 'LOGAN', 'TRAFICCOMBI', 'SANDERO', 'BIGSTER']\n"
     ]
    }
   ],
   "execution_count": 8
  },
  {
   "metadata": {
    "ExecuteTime": {
     "end_time": "2025-10-22T11:39:11.466233Z",
     "start_time": "2025-10-22T11:39:11.431764Z"
    }
   },
   "cell_type": "code",
   "source": [
    "import pandas as pd\n",
    "import numpy as np\n",
    "dataset = pd.read_csv('raportVanzari.csv', encoding = 'utf-8', encoding_errors = 'ignore')\n",
    "dataset['VANZARE'] = dataset['VANZARE'].str.replace(',','', regex=False).str.replace('?','', regex=False).str.replace('lei', '', regex = False).str.strip().astype(float)\n",
    "    #convert la tip float dupa eliminarea caracterelor nedorite\n",
    "median = dataset['VANZARE'].median()\n",
    "dataset['VANZARE'].fillna(median, inplace = True)\n",
    "grupare_modele = {model: dataset[dataset['MODEL'] == model] for model in dataset['MODEL'].unique()}\n",
    "medii_vanzare_model = []\n",
    "for model in grupare_modele:\n",
    "        media = grupare_modele[model]['VANZARE'].mean()\n",
    "        medii_vanzare_model.append(media)\n",
    "print(\"\\nVerificarea elementelor vectorului de medii: \", medii_vanzare_model)\n",
    "medii_np = np.array(medii_vanzare_model)\n",
    "print(\"\\nArray numpy de medii: \", medii_np)\n"
   ],
   "id": "6d866fd1daebe4e9",
   "outputs": [
    {
     "name": "stdout",
     "output_type": "stream",
     "text": [
      "\n",
      "Verificarea elementelor vectorului de medii:  [np.float64(14184.01176918919), np.float64(21484.39095238095), np.float64(22568.35714285714), np.float64(19633.333333333332), np.float64(21496.81395348837), np.float64(8272.67543859649), np.float64(26072.85714285714), np.float64(17872.0), np.float64(21437.75), np.float64(16539.66), np.float64(28926.25), np.float64(14934.0), np.float64(10128.897352941176), np.float64(10969.25), np.float64(18081.1), np.float64(12141.171428571428), np.float64(12500.0), np.float64(14198.0), np.float64(27463.636363636364), np.float64(36550.0), np.float64(16738.75), np.float64(11912.5), np.float64(27583.333333333332), np.float64(35500.0), np.float64(14425.0), np.float64(14487.5), np.float64(29733.333333333332), np.float64(39318.75), np.float64(25865.625), np.float64(17850.0), np.float64(34650.0), np.float64(13370.0), np.float64(35144.901960784315), np.float64(30124.615555555552), np.float64(11000.0), np.float64(17815.0), np.float64(8182.833333333333), np.float64(24103.0), np.float64(10925.0), np.float64(10979.277777777777), np.float64(10425.0), np.float64(3000.0), np.float64(23883.333333333332)]\n",
      "\n",
      "Array numpy de medii:  [14184.01176919 21484.39095238 22568.35714286 19633.33333333\n",
      " 21496.81395349  8272.6754386  26072.85714286 17872.\n",
      " 21437.75       16539.66       28926.25       14934.\n",
      " 10128.89735294 10969.25       18081.1        12141.17142857\n",
      " 12500.         14198.         27463.63636364 36550.\n",
      " 16738.75       11912.5        27583.33333333 35500.\n",
      " 14425.         14487.5        29733.33333333 39318.75\n",
      " 25865.625      17850.         34650.         13370.\n",
      " 35144.90196078 30124.61555556 11000.         17815.\n",
      "  8182.83333333 24103.         10925.         10979.27777778\n",
      " 10425.          3000.         23883.33333333]\n"
     ]
    }
   ],
   "execution_count": 2
  },
  {
   "metadata": {
    "ExecuteTime": {
     "end_time": "2025-10-22T11:37:03.480057Z",
     "start_time": "2025-10-22T11:37:03.400712Z"
    }
   },
   "cell_type": "code",
   "source": [
    "import pandas as pd\n",
    "import numpy as np\n",
    "dataset = pd.read_csv('raportVanzari.csv', encoding = 'utf-8', encoding_errors = 'ignore')\n",
    "dataset['VANZARE'] = dataset['VANZARE'].str.replace(',','', regex=False).str.replace('?','', regex=False).str.replace('lei', '', regex = False).str.strip().astype(float)\n",
    "    #convert la tip float dupa eliminarea caracterelor nedorite\n",
    "median = dataset['VANZARE'].median()\n",
    "dataset['VANZARE'].fillna(median, inplace = True)\n",
    "grupare_modele = {model: dataset[dataset['MODEL'] == model] for model in dataset['MODEL'].unique()}\n",
    "medii_vanzare_model = []\n",
    "modele = []\n",
    "for model in grupare_modele:\n",
    "        media = grupare_modele[model]['VANZARE'].mean()\n",
    "        medii_vanzare_model.append(media)\n",
    "        modele.append(model)\n",
    "\n",
    "matrice_model_vanzari = np.column_stack((modele, medii_vanzare_model))\n",
    "print(matrice_model_vanzari)\n",
    "\n"
   ],
   "id": "492853396a18b068",
   "outputs": [
    {
     "name": "stdout",
     "output_type": "stream",
     "text": [
      "[['DUSTER' '14184.01176918919']\n",
      " ['ARKANA' '21484.39095238095']\n",
      " ['MASTER' '22568.35714285714']\n",
      " ['ZOE' '19633.333333333332']\n",
      " ['DUSTER III' '21496.81395348837']\n",
      " ['SPRING' '8272.67543859649']\n",
      " ['QASHQAI' '26072.85714285714']\n",
      " ['JOGGER 7L' '17872.0']\n",
      " ['KANGOO VAN' '21437.75']\n",
      " ['DUSTER II F.2' '16539.66']\n",
      " ['AUSTRAL' '28926.25']\n",
      " ['MEGANE SEDAN' '14934.0']\n",
      " ['SANDERO III' '10128.897352941176']\n",
      " ['SANDERO III ' '10969.25']\n",
      " ['TALISMAN' '18081.1']\n",
      " ['LOGAN III' '12141.171428571428']\n",
      " ['LOGAN III ' '12500.0']\n",
      " ['CAPTUR' '14198.0']\n",
      " ['MEGANE E-TECH' '27463.636363636364']\n",
      " ['X-TRAIL 5L' '36550.0']\n",
      " ['NOUL CLIO' '16738.75']\n",
      " ['CLIO 5' '11912.5']\n",
      " ['TRAFIC' '27583.333333333332']\n",
      " ['X-TRAIL 7L' '35500.0']\n",
      " ['MEGANE 4' '14425.0']\n",
      " ['EXPRESS' '14487.5']\n",
      " ['KOLEOS' '29733.333333333332']\n",
      " ['RAFALE' '39318.75']\n",
      " ['SYMBIOZ' '25865.625']\n",
      " ['MEGANE ESTATE' '17850.0']\n",
      " ['MASTER E-TECH' '34650.0']\n",
      " ['LOGAN  SL XX' '13370.0']\n",
      " ['ARIYA' '35144.901960784315']\n",
      " ['X-Trail' '30124.615555555552']\n",
      " ['DUSTER PICK-UP' '11000.0']\n",
      " ['JOGGER 5L' '17815.0']\n",
      " ['R5' '8182.833333333333']\n",
      " ['JUKE' '24103.0']\n",
      " ['LOGAN' '10925.0']\n",
      " ['TRAFIC COMBI' '10979.277777777777']\n",
      " ['DUSTER ' '10425.0']\n",
      " ['SANDERO' '3000.0']\n",
      " ['BIGSTER' '23883.333333333332']]\n"
     ]
    }
   ],
   "execution_count": 17
  },
  {
   "metadata": {
    "ExecuteTime": {
     "end_time": "2025-10-22T11:37:03.562905Z",
     "start_time": "2025-10-22T11:37:03.558975Z"
    }
   },
   "cell_type": "code",
   "source": "",
   "id": "45db6755a991e92d",
   "outputs": [],
   "execution_count": null
  }
 ],
 "metadata": {
  "kernelspec": {
   "display_name": "Python 3",
   "language": "python",
   "name": "python3"
  },
  "language_info": {
   "codemirror_mode": {
    "name": "ipython",
    "version": 2
   },
   "file_extension": ".py",
   "mimetype": "text/x-python",
   "name": "python",
   "nbconvert_exporter": "python",
   "pygments_lexer": "ipython2",
   "version": "2.7.6"
  }
 },
 "nbformat": 4,
 "nbformat_minor": 5
}
